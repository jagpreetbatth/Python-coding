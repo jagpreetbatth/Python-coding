{
 "cells": [
  {
   "cell_type": "code",
   "execution_count": 1,
   "id": "5e682b12",
   "metadata": {},
   "outputs": [],
   "source": [
    "# Importing libraries\n",
    "\n",
    "import pandas as pd\n",
    "import numpy as np\n",
    "import os"
   ]
  },
  {
   "cell_type": "code",
   "execution_count": 2,
   "id": "74e0c99e",
   "metadata": {},
   "outputs": [],
   "source": [
    "# Master Path\n",
    "\n",
    "path = r'/Users/jagpreetbatth/Desktop/Career Foundry/Python/11-2021 Instacart Basket Analysis'"
   ]
  },
  {
   "cell_type": "code",
   "execution_count": 3,
   "id": "744eed4f",
   "metadata": {},
   "outputs": [],
   "source": [
    "ords_prods_cust = pd.read_pickle(os.path.join(path, 'Data', 'Prepared Data', 'ords_prods_cust.pkl'))"
   ]
  },
  {
   "cell_type": "code",
   "execution_count": 4,
   "id": "161fb464",
   "metadata": {},
   "outputs": [
    {
     "data": {
      "text/plain": [
       "(24619687, 33)"
      ]
     },
     "execution_count": 4,
     "metadata": {},
     "output_type": "execute_result"
    }
   ],
   "source": [
    "ords_prods_cust.shape"
   ]
  },
  {
   "cell_type": "code",
   "execution_count": 5,
   "id": "288742fd",
   "metadata": {},
   "outputs": [],
   "source": [
    "ords_prods_cust_merge = pd.read_pickle(os.path.join(path, 'Data', 'Prepared Data', 'orders_products_customers_merged.pkl'))"
   ]
  },
  {
   "cell_type": "code",
   "execution_count": 6,
   "id": "dc07cbf0",
   "metadata": {},
   "outputs": [
    {
     "data": {
      "text/plain": [
       "(30563166, 33)"
      ]
     },
     "execution_count": 6,
     "metadata": {},
     "output_type": "execute_result"
    }
   ],
   "source": [
    "ords_prods_cust_merge.shape"
   ]
  },
  {
   "cell_type": "code",
   "execution_count": 4,
   "id": "d90a0172",
   "metadata": {},
   "outputs": [],
   "source": [
    "df_ords = pd.read_csv(os.path.join(path, 'Data', 'Prepared Data', 'orders_wrangled.csv'))"
   ]
  },
  {
   "cell_type": "code",
   "execution_count": 5,
   "id": "e444977d",
   "metadata": {},
   "outputs": [
    {
     "data": {
      "text/plain": [
       "(3421083, 7)"
      ]
     },
     "execution_count": 5,
     "metadata": {},
     "output_type": "execute_result"
    }
   ],
   "source": [
    "df_ords.shape"
   ]
  },
  {
   "cell_type": "code",
   "execution_count": 7,
   "id": "727b3702",
   "metadata": {},
   "outputs": [],
   "source": [
    "df_ords = pd.read_csv(os.path.join(path, 'Data', 'Prepared Data', 'orders_wrangled.csv'))"
   ]
  },
  {
   "cell_type": "code",
   "execution_count": 8,
   "id": "a1d13e5d",
   "metadata": {},
   "outputs": [
    {
     "data": {
      "text/plain": [
       "(3421083, 7)"
      ]
     },
     "execution_count": 8,
     "metadata": {},
     "output_type": "execute_result"
    }
   ],
   "source": [
    "df_ords.shape"
   ]
  },
  {
   "cell_type": "code",
   "execution_count": 9,
   "id": "e85d65a2",
   "metadata": {},
   "outputs": [],
   "source": [
    "df_products=pd.read_csv(os.path.join(path, 'Data', 'Prepared Data', 'products_checked.csv'))"
   ]
  },
  {
   "cell_type": "code",
   "execution_count": 10,
   "id": "d8b51872",
   "metadata": {},
   "outputs": [
    {
     "data": {
      "text/plain": [
       "(49672, 6)"
      ]
     },
     "execution_count": 10,
     "metadata": {},
     "output_type": "execute_result"
    }
   ],
   "source": [
    "df_products.shape"
   ]
  },
  {
   "cell_type": "code",
   "execution_count": 11,
   "id": "d42f118a",
   "metadata": {},
   "outputs": [],
   "source": [
    "df_customers=pd.read_csv(os.path.join(path, 'Data', 'Original Data', 'customers.csv'))"
   ]
  },
  {
   "cell_type": "code",
   "execution_count": 12,
   "id": "0f0ac7a4",
   "metadata": {},
   "outputs": [
    {
     "data": {
      "text/plain": [
       "(206209, 10)"
      ]
     },
     "execution_count": 12,
     "metadata": {},
     "output_type": "execute_result"
    }
   ],
   "source": [
    "df_customers.shape"
   ]
  },
  {
   "cell_type": "code",
   "execution_count": 13,
   "id": "37eb489e",
   "metadata": {},
   "outputs": [],
   "source": [
    "df_departments=pd.read_csv(os.path.join(path, 'Data', 'Original Data', 'departments.csv'))"
   ]
  },
  {
   "cell_type": "code",
   "execution_count": 14,
   "id": "5ec894f5",
   "metadata": {},
   "outputs": [
    {
     "data": {
      "text/plain": [
       "(1, 22)"
      ]
     },
     "execution_count": 14,
     "metadata": {},
     "output_type": "execute_result"
    }
   ],
   "source": [
    "df_departments.shape"
   ]
  },
  {
   "cell_type": "code",
   "execution_count": 19,
   "id": "988f45f6",
   "metadata": {},
   "outputs": [],
   "source": [
    "df_order_products_prior=pd.read_csv(os.path.join(path, 'Data', 'Original Data', 'order_products__prior.csv'))"
   ]
  },
  {
   "cell_type": "code",
   "execution_count": 20,
   "id": "92e0aa75",
   "metadata": {},
   "outputs": [
    {
     "data": {
      "text/plain": [
       "(32434489, 4)"
      ]
     },
     "execution_count": 20,
     "metadata": {},
     "output_type": "execute_result"
    }
   ],
   "source": [
    "df_order_products_prior.shape"
   ]
  },
  {
   "cell_type": "code",
   "execution_count": 21,
   "id": "2af654d6",
   "metadata": {},
   "outputs": [],
   "source": [
    "df_orders_checked=pd.read_csv(os.path.join(path, 'Data', 'Prepared Data', 'orders_checked.csv'))"
   ]
  },
  {
   "cell_type": "code",
   "execution_count": 22,
   "id": "428efb66",
   "metadata": {},
   "outputs": [
    {
     "data": {
      "text/plain": [
       "(3214874, 7)"
      ]
     },
     "execution_count": 22,
     "metadata": {},
     "output_type": "execute_result"
    }
   ],
   "source": [
    "df_orders_checked.shape"
   ]
  },
  {
   "cell_type": "code",
   "execution_count": 23,
   "id": "0e018225",
   "metadata": {},
   "outputs": [],
   "source": [
    "# orders_products_combined\n",
    "\n",
    "ords_prods_combo = pd.read_pickle(os.path.join(path, 'Data', 'Prepared Data', 'orders_products_combined.pkl'))"
   ]
  },
  {
   "cell_type": "code",
   "execution_count": 24,
   "id": "60491f57",
   "metadata": {},
   "outputs": [
    {
     "data": {
      "text/plain": [
       "(32640698, 11)"
      ]
     },
     "execution_count": 24,
     "metadata": {},
     "output_type": "execute_result"
    }
   ],
   "source": [
    "ords_prods_combo.shape"
   ]
  },
  {
   "cell_type": "code",
   "execution_count": 25,
   "id": "d8ae076e",
   "metadata": {},
   "outputs": [],
   "source": [
    "# orders_products_merged\n",
    "\n",
    "orders_products_merged= pd.read_pickle(os.path.join(path, 'Data', 'Prepared Data', 'orders_products_merged.pkl'))"
   ]
  },
  {
   "cell_type": "code",
   "execution_count": 26,
   "id": "b8a704c6",
   "metadata": {},
   "outputs": [
    {
     "data": {
      "text/plain": [
       "(32641268, 14)"
      ]
     },
     "execution_count": 26,
     "metadata": {},
     "output_type": "execute_result"
    }
   ],
   "source": [
    "orders_products_merged.shape"
   ]
  },
  {
   "cell_type": "code",
   "execution_count": 27,
   "id": "29d3860a",
   "metadata": {},
   "outputs": [],
   "source": [
    "orders_products_customers_merged= pd.read_pickle(os.path.join(path, 'Data', 'Prepared Data', 'orders_products_customers_merged.pkl'))"
   ]
  },
  {
   "cell_type": "code",
   "execution_count": 28,
   "id": "960b7f59",
   "metadata": {},
   "outputs": [
    {
     "data": {
      "text/plain": [
       "(30563166, 33)"
      ]
     },
     "execution_count": 28,
     "metadata": {},
     "output_type": "execute_result"
    }
   ],
   "source": [
    "orders_products_customers_merged.shape"
   ]
  },
  {
   "cell_type": "code",
   "execution_count": 29,
   "id": "6a90f634",
   "metadata": {},
   "outputs": [],
   "source": [
    "# ords_prods_added_columns\n",
    "\n",
    "ords_prods_added_columns= pd.read_pickle(os.path.join(path, 'Data', 'Prepared Data', 'ords_prods_added_columns.pkl'))"
   ]
  },
  {
   "cell_type": "code",
   "execution_count": 30,
   "id": "a5358e25",
   "metadata": {},
   "outputs": [
    {
     "data": {
      "text/plain": [
       "(32641268, 18)"
      ]
     },
     "execution_count": 30,
     "metadata": {},
     "output_type": "execute_result"
    }
   ],
   "source": [
    "ords_prods_added_columns.shape"
   ]
  },
  {
   "cell_type": "code",
   "execution_count": 31,
   "id": "caca8cc0",
   "metadata": {},
   "outputs": [],
   "source": [
    "# ords_prods_added_flags\n",
    "\n",
    "ords_prods_added_flags=pd.read_pickle(os.path.join(path, 'Data', 'Prepared Data', 'ords_prods_added_flags.pkl'))"
   ]
  },
  {
   "cell_type": "code",
   "execution_count": 32,
   "id": "f36dde0c",
   "metadata": {},
   "outputs": [
    {
     "data": {
      "text/plain": [
       "(32641268, 24)"
      ]
     },
     "execution_count": 32,
     "metadata": {},
     "output_type": "execute_result"
    }
   ],
   "source": [
    "ords_prods_added_flags.shape"
   ]
  },
  {
   "cell_type": "code",
   "execution_count": null,
   "id": "03fb8140",
   "metadata": {},
   "outputs": [],
   "source": []
  }
 ],
 "metadata": {
  "kernelspec": {
   "display_name": "Python 3 (ipykernel)",
   "language": "python",
   "name": "python3"
  },
  "language_info": {
   "codemirror_mode": {
    "name": "ipython",
    "version": 3
   },
   "file_extension": ".py",
   "mimetype": "text/x-python",
   "name": "python",
   "nbconvert_exporter": "python",
   "pygments_lexer": "ipython3",
   "version": "3.9.7"
  }
 },
 "nbformat": 4,
 "nbformat_minor": 5
}
