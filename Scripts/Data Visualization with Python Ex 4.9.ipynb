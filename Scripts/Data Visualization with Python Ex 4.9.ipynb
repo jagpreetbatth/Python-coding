{
 "cells": [
  {
   "cell_type": "code",
   "execution_count": 1,
   "id": "aca621f3",
   "metadata": {},
   "outputs": [],
   "source": [
    "# Import Libraries\n",
    "\n",
    "import pandas as pd\n",
    "import numpy as np\n",
    "import os\n",
    "import matplotlib.pyplot as plt\n",
    "import seaborn as sns\n",
    "import scipy"
   ]
  },
  {
   "cell_type": "code",
   "execution_count": 2,
   "id": "0d871eb4",
   "metadata": {},
   "outputs": [],
   "source": [
    "# Create Master Path\n",
    "\n",
    "path = r'/Users/jagpreetbatth/Desktop/Career Foundry/Python/11-2021 Instacart Basket Analysis'"
   ]
  },
  {
   "cell_type": "code",
   "execution_count": 3,
   "id": "8c4dcfb5",
   "metadata": {},
   "outputs": [
    {
     "data": {
      "text/plain": [
       "'/Users/jagpreetbatth/Desktop/Career Foundry/Python/11-2021 Instacart Basket Analysis'"
      ]
     },
     "execution_count": 3,
     "metadata": {},
     "output_type": "execute_result"
    }
   ],
   "source": [
    "# Verify Path\n",
    "\n",
    "path"
   ]
  },
  {
   "cell_type": "code",
   "execution_count": 4,
   "id": "9abe96cc",
   "metadata": {},
   "outputs": [],
   "source": [
    "# Import updated orders_products_merged\n",
    "\n",
    "ords_prods_merge = pd.read_pickle(os.path.join(path, 'Data','Prepared Data', 'ords_prods_added_flags.pkl'))"
   ]
  },
  {
   "cell_type": "code",
   "execution_count": 5,
   "id": "b9819015",
   "metadata": {},
   "outputs": [
    {
     "data": {
      "text/plain": [
       "(32641268, 24)"
      ]
     },
     "execution_count": 5,
     "metadata": {},
     "output_type": "execute_result"
    }
   ],
   "source": [
    "# Check Shape\n",
    "\n",
    "ords_prods_merge.shape"
   ]
  },
  {
   "cell_type": "code",
   "execution_count": 6,
   "id": "59241978",
   "metadata": {},
   "outputs": [
    {
     "data": {
      "text/html": [
       "<div>\n",
       "<style scoped>\n",
       "    .dataframe tbody tr th:only-of-type {\n",
       "        vertical-align: middle;\n",
       "    }\n",
       "\n",
       "    .dataframe tbody tr th {\n",
       "        vertical-align: top;\n",
       "    }\n",
       "\n",
       "    .dataframe thead th {\n",
       "        text-align: right;\n",
       "    }\n",
       "</style>\n",
       "<table border=\"1\" class=\"dataframe\">\n",
       "  <thead>\n",
       "    <tr style=\"text-align: right;\">\n",
       "      <th></th>\n",
       "      <th>order_id</th>\n",
       "      <th>user_id</th>\n",
       "      <th>order_number</th>\n",
       "      <th>orders_day_of_week</th>\n",
       "      <th>order_hour_of_day</th>\n",
       "      <th>days_since_prior_order</th>\n",
       "      <th>product_id</th>\n",
       "      <th>add_to_cart_order</th>\n",
       "      <th>reordered</th>\n",
       "      <th>product_name</th>\n",
       "      <th>...</th>\n",
       "      <th>price_range_loc</th>\n",
       "      <th>busiest_day</th>\n",
       "      <th>busiest_days</th>\n",
       "      <th>busiest_period_of_day</th>\n",
       "      <th>max_order</th>\n",
       "      <th>loyalty_flag</th>\n",
       "      <th>average_purchase_price</th>\n",
       "      <th>spending_flag</th>\n",
       "      <th>median_days_since_prior_order</th>\n",
       "      <th>order_frequency_flag</th>\n",
       "    </tr>\n",
       "  </thead>\n",
       "  <tbody>\n",
       "    <tr>\n",
       "      <th>0</th>\n",
       "      <td>2398795</td>\n",
       "      <td>1.0</td>\n",
       "      <td>2.0</td>\n",
       "      <td>3.0</td>\n",
       "      <td>7.0</td>\n",
       "      <td>15.0</td>\n",
       "      <td>196.0</td>\n",
       "      <td>1.0</td>\n",
       "      <td>1.0</td>\n",
       "      <td>Soda</td>\n",
       "      <td>...</td>\n",
       "      <td>Mid-range product</td>\n",
       "      <td>Regularly busy</td>\n",
       "      <td>Least busy days</td>\n",
       "      <td>Average orders</td>\n",
       "      <td>11.0</td>\n",
       "      <td>Regular customer</td>\n",
       "      <td>6.372222</td>\n",
       "      <td>Low spender</td>\n",
       "      <td>20.0</td>\n",
       "      <td>Regular customer</td>\n",
       "    </tr>\n",
       "    <tr>\n",
       "      <th>1</th>\n",
       "      <td>2398795</td>\n",
       "      <td>1.0</td>\n",
       "      <td>2.0</td>\n",
       "      <td>3.0</td>\n",
       "      <td>7.0</td>\n",
       "      <td>15.0</td>\n",
       "      <td>10258.0</td>\n",
       "      <td>2.0</td>\n",
       "      <td>0.0</td>\n",
       "      <td>Pistachios</td>\n",
       "      <td>...</td>\n",
       "      <td>Low-range product</td>\n",
       "      <td>Regularly busy</td>\n",
       "      <td>Least busy days</td>\n",
       "      <td>Average orders</td>\n",
       "      <td>11.0</td>\n",
       "      <td>Regular customer</td>\n",
       "      <td>6.372222</td>\n",
       "      <td>Low spender</td>\n",
       "      <td>20.0</td>\n",
       "      <td>Regular customer</td>\n",
       "    </tr>\n",
       "    <tr>\n",
       "      <th>2</th>\n",
       "      <td>2398795</td>\n",
       "      <td>1.0</td>\n",
       "      <td>2.0</td>\n",
       "      <td>3.0</td>\n",
       "      <td>7.0</td>\n",
       "      <td>15.0</td>\n",
       "      <td>12427.0</td>\n",
       "      <td>3.0</td>\n",
       "      <td>1.0</td>\n",
       "      <td>Original Beef Jerky</td>\n",
       "      <td>...</td>\n",
       "      <td>Low-range product</td>\n",
       "      <td>Regularly busy</td>\n",
       "      <td>Least busy days</td>\n",
       "      <td>Average orders</td>\n",
       "      <td>11.0</td>\n",
       "      <td>Regular customer</td>\n",
       "      <td>6.372222</td>\n",
       "      <td>Low spender</td>\n",
       "      <td>20.0</td>\n",
       "      <td>Regular customer</td>\n",
       "    </tr>\n",
       "    <tr>\n",
       "      <th>3</th>\n",
       "      <td>2398795</td>\n",
       "      <td>1.0</td>\n",
       "      <td>2.0</td>\n",
       "      <td>3.0</td>\n",
       "      <td>7.0</td>\n",
       "      <td>15.0</td>\n",
       "      <td>13176.0</td>\n",
       "      <td>4.0</td>\n",
       "      <td>0.0</td>\n",
       "      <td>Bag of Organic Bananas</td>\n",
       "      <td>...</td>\n",
       "      <td>Mid-range product</td>\n",
       "      <td>Regularly busy</td>\n",
       "      <td>Least busy days</td>\n",
       "      <td>Average orders</td>\n",
       "      <td>11.0</td>\n",
       "      <td>Regular customer</td>\n",
       "      <td>6.372222</td>\n",
       "      <td>Low spender</td>\n",
       "      <td>20.0</td>\n",
       "      <td>Regular customer</td>\n",
       "    </tr>\n",
       "    <tr>\n",
       "      <th>4</th>\n",
       "      <td>2398795</td>\n",
       "      <td>1.0</td>\n",
       "      <td>2.0</td>\n",
       "      <td>3.0</td>\n",
       "      <td>7.0</td>\n",
       "      <td>15.0</td>\n",
       "      <td>26088.0</td>\n",
       "      <td>5.0</td>\n",
       "      <td>1.0</td>\n",
       "      <td>Aged White Cheddar Popcorn</td>\n",
       "      <td>...</td>\n",
       "      <td>Low-range product</td>\n",
       "      <td>Regularly busy</td>\n",
       "      <td>Least busy days</td>\n",
       "      <td>Average orders</td>\n",
       "      <td>11.0</td>\n",
       "      <td>Regular customer</td>\n",
       "      <td>6.372222</td>\n",
       "      <td>Low spender</td>\n",
       "      <td>20.0</td>\n",
       "      <td>Regular customer</td>\n",
       "    </tr>\n",
       "  </tbody>\n",
       "</table>\n",
       "<p>5 rows × 24 columns</p>\n",
       "</div>"
      ],
      "text/plain": [
       "   order_id  user_id  order_number  orders_day_of_week  order_hour_of_day  \\\n",
       "0   2398795      1.0           2.0                 3.0                7.0   \n",
       "1   2398795      1.0           2.0                 3.0                7.0   \n",
       "2   2398795      1.0           2.0                 3.0                7.0   \n",
       "3   2398795      1.0           2.0                 3.0                7.0   \n",
       "4   2398795      1.0           2.0                 3.0                7.0   \n",
       "\n",
       "   days_since_prior_order  product_id  add_to_cart_order  reordered  \\\n",
       "0                    15.0       196.0                1.0        1.0   \n",
       "1                    15.0     10258.0                2.0        0.0   \n",
       "2                    15.0     12427.0                3.0        1.0   \n",
       "3                    15.0     13176.0                4.0        0.0   \n",
       "4                    15.0     26088.0                5.0        1.0   \n",
       "\n",
       "                 product_name  ...    price_range_loc     busiest_day  \\\n",
       "0                        Soda  ...  Mid-range product  Regularly busy   \n",
       "1                  Pistachios  ...  Low-range product  Regularly busy   \n",
       "2         Original Beef Jerky  ...  Low-range product  Regularly busy   \n",
       "3      Bag of Organic Bananas  ...  Mid-range product  Regularly busy   \n",
       "4  Aged White Cheddar Popcorn  ...  Low-range product  Regularly busy   \n",
       "\n",
       "      busiest_days busiest_period_of_day max_order      loyalty_flag  \\\n",
       "0  Least busy days        Average orders      11.0  Regular customer   \n",
       "1  Least busy days        Average orders      11.0  Regular customer   \n",
       "2  Least busy days        Average orders      11.0  Regular customer   \n",
       "3  Least busy days        Average orders      11.0  Regular customer   \n",
       "4  Least busy days        Average orders      11.0  Regular customer   \n",
       "\n",
       "  average_purchase_price spending_flag  median_days_since_prior_order  \\\n",
       "0               6.372222   Low spender                           20.0   \n",
       "1               6.372222   Low spender                           20.0   \n",
       "2               6.372222   Low spender                           20.0   \n",
       "3               6.372222   Low spender                           20.0   \n",
       "4               6.372222   Low spender                           20.0   \n",
       "\n",
       "  order_frequency_flag  \n",
       "0     Regular customer  \n",
       "1     Regular customer  \n",
       "2     Regular customer  \n",
       "3     Regular customer  \n",
       "4     Regular customer  \n",
       "\n",
       "[5 rows x 24 columns]"
      ]
     },
     "execution_count": 6,
     "metadata": {},
     "output_type": "execute_result"
    }
   ],
   "source": [
    "# Verify Correct Import\n",
    "\n",
    "ords_prods_merge.head()"
   ]
  },
  {
   "cell_type": "markdown",
   "id": "67c94222",
   "metadata": {},
   "source": [
    "# Creating Bar Charts"
   ]
  },
  {
   "cell_type": "code",
   "execution_count": 7,
   "id": "fb8be135",
   "metadata": {},
   "outputs": [
    {
     "data": {
      "text/plain": [
       "<AxesSubplot:>"
      ]
     },
     "execution_count": 7,
     "metadata": {},
     "output_type": "execute_result"
    },
    {
     "data": {
      "image/png": "[encoded data removed]",
      "text/plain": [
       "<Figure size 432x288 with 1 Axes>"
      ]
     },
     "metadata": {
      "needs_background": "light"
     },
     "output_type": "display_data"
    }
   ],
   "source": [
    "# Create bar chart showing order frequency based on day of week\n",
    "\n",
    "ords_prods_merge['orders_day_of_week'].value_counts().plot.bar()"
   ]
  },
  {
   "cell_type": "code",
   "execution_count": 8,
   "id": "641b95db",
   "metadata": {},
   "outputs": [
    {
     "data": {
      "image/png": "[encoded data removed]",
      "text/plain": [
       "<Figure size 432x288 with 1 Axes>"
      ]
     },
     "metadata": {
      "needs_background": "light"
     },
     "output_type": "display_data"
    }
   ],
   "source": [
    "# Add color to bar Chart\n",
    "\n",
    "bar = ords_prods_merge['orders_day_of_week'].value_counts().plot.bar(color =['purple', 'red', 'pink', 'orange', 'yellow', 'green', 'blue'])"
   ]
  },
  {
   "cell_type": "code",
   "execution_count": 9,
   "id": "7be8b0cf",
   "metadata": {},
   "outputs": [],
   "source": [
    "# Export Visualization\n",
    "\n",
    "bar.figure.savefig(os.path.join(path, 'Analysis','Visualizations', 'bar_orders_dow.png'))"
   ]
  },
  {
   "cell_type": "markdown",
   "id": "e5238ddd",
   "metadata": {},
   "source": [
    "# Creating Histograms and Scatterplots"
   ]
  },
  {
   "cell_type": "code",
   "execution_count": 10,
   "id": "1122904b",
   "metadata": {},
   "outputs": [
    {
     "data": {
      "text/plain": [
       "<AxesSubplot:ylabel='Frequency'>"
      ]
     },
     "execution_count": 10,
     "metadata": {},
     "output_type": "execute_result"
    },
    {
     "data": {
      "image/png": "[encoded data removed]",
      "text/plain": [
       "<Figure size 432x288 with 1 Axes>"
      ]
     },
     "metadata": {
      "needs_background": "light"
     },
     "output_type": "display_data"
    }
   ],
   "source": [
    "# Create histogram for 'prices' column\n",
    "\n",
    "ords_prods_merge['prices'].plot.hist(bins = 25)"
   ]
  },
  {
   "cell_type": "markdown",
   "id": "195499f6",
   "metadata": {},
   "source": [
    "#### Note how there is a single bar due to entry error of extreme price outliers"
   ]
  },
  {
   "cell_type": "code",
   "execution_count": 11,
   "id": "605359aa",
   "metadata": {},
   "outputs": [
    {
     "data": {
      "text/plain": [
       "<AxesSubplot:xlabel='prices', ylabel='prices'>"
      ]
     },
     "execution_count": 11,
     "metadata": {},
     "output_type": "execute_result"
    },
    {
     "data": {
      "image/png": "[encoded data removed]",
      "text/plain": [
       "<Figure size 432x288 with 1 Axes>"
      ]
     },
     "metadata": {
      "needs_background": "light"
     },
     "output_type": "display_data"
    }
   ],
   "source": [
    "# Create Scatterplots for 'prices' column\n",
    "\n",
    "sns.scatterplot(x = 'prices', y = 'prices',data = ords_prods_merge)"
   ]
  },
  {
   "cell_type": "code",
   "execution_count": 12,
   "id": "1ba17950",
   "metadata": {},
   "outputs": [
    {
     "data": {
      "text/html": [
       "<div>\n",
       "<style scoped>\n",
       "    .dataframe tbody tr th:only-of-type {\n",
       "        vertical-align: middle;\n",
       "    }\n",
       "\n",
       "    .dataframe tbody tr th {\n",
       "        vertical-align: top;\n",
       "    }\n",
       "\n",
       "    .dataframe thead th {\n",
       "        text-align: right;\n",
       "    }\n",
       "</style>\n",
       "<table border=\"1\" class=\"dataframe\">\n",
       "  <thead>\n",
       "    <tr style=\"text-align: right;\">\n",
       "      <th></th>\n",
       "      <th>order_id</th>\n",
       "      <th>user_id</th>\n",
       "      <th>order_number</th>\n",
       "      <th>orders_day_of_week</th>\n",
       "      <th>order_hour_of_day</th>\n",
       "      <th>days_since_prior_order</th>\n",
       "      <th>product_id</th>\n",
       "      <th>add_to_cart_order</th>\n",
       "      <th>reordered</th>\n",
       "      <th>product_name</th>\n",
       "      <th>...</th>\n",
       "      <th>price_range_loc</th>\n",
       "      <th>busiest_day</th>\n",
       "      <th>busiest_days</th>\n",
       "      <th>busiest_period_of_day</th>\n",
       "      <th>max_order</th>\n",
       "      <th>loyalty_flag</th>\n",
       "      <th>average_purchase_price</th>\n",
       "      <th>spending_flag</th>\n",
       "      <th>median_days_since_prior_order</th>\n",
       "      <th>order_frequency_flag</th>\n",
       "    </tr>\n",
       "  </thead>\n",
       "  <tbody>\n",
       "    <tr>\n",
       "      <th>1429</th>\n",
       "      <td>912404</td>\n",
       "      <td>17.0</td>\n",
       "      <td>12.0</td>\n",
       "      <td>2.0</td>\n",
       "      <td>14.0</td>\n",
       "      <td>5.0</td>\n",
       "      <td>21553.0</td>\n",
       "      <td>5.0</td>\n",
       "      <td>0.0</td>\n",
       "      <td>Lowfat 2% Milkfat Cottage Cheese</td>\n",
       "      <td>...</td>\n",
       "      <td>High-range product</td>\n",
       "      <td>Regularly busy</td>\n",
       "      <td>Regularly busy</td>\n",
       "      <td>Most orders</td>\n",
       "      <td>41.0</td>\n",
       "      <td>Loyal customer</td>\n",
       "      <td>109.670103</td>\n",
       "      <td>High spender</td>\n",
       "      <td>5.0</td>\n",
       "      <td>Frequent customer</td>\n",
       "    </tr>\n",
       "    <tr>\n",
       "      <th>1491</th>\n",
       "      <td>603376</td>\n",
       "      <td>17.0</td>\n",
       "      <td>22.0</td>\n",
       "      <td>6.0</td>\n",
       "      <td>16.0</td>\n",
       "      <td>4.0</td>\n",
       "      <td>21553.0</td>\n",
       "      <td>3.0</td>\n",
       "      <td>1.0</td>\n",
       "      <td>Lowfat 2% Milkfat Cottage Cheese</td>\n",
       "      <td>...</td>\n",
       "      <td>High-range product</td>\n",
       "      <td>Regularly busy</td>\n",
       "      <td>Regularly busy</td>\n",
       "      <td>Most orders</td>\n",
       "      <td>41.0</td>\n",
       "      <td>Loyal customer</td>\n",
       "      <td>109.670103</td>\n",
       "      <td>High spender</td>\n",
       "      <td>5.0</td>\n",
       "      <td>Frequent customer</td>\n",
       "    </tr>\n",
       "    <tr>\n",
       "      <th>15448</th>\n",
       "      <td>3264360</td>\n",
       "      <td>135.0</td>\n",
       "      <td>2.0</td>\n",
       "      <td>2.0</td>\n",
       "      <td>21.0</td>\n",
       "      <td>13.0</td>\n",
       "      <td>21553.0</td>\n",
       "      <td>6.0</td>\n",
       "      <td>0.0</td>\n",
       "      <td>Lowfat 2% Milkfat Cottage Cheese</td>\n",
       "      <td>...</td>\n",
       "      <td>High-range product</td>\n",
       "      <td>Regularly busy</td>\n",
       "      <td>Regularly busy</td>\n",
       "      <td>Average orders</td>\n",
       "      <td>5.0</td>\n",
       "      <td>New customer</td>\n",
       "      <td>1250.245833</td>\n",
       "      <td>High spender</td>\n",
       "      <td>12.0</td>\n",
       "      <td>Regular customer</td>\n",
       "    </tr>\n",
       "    <tr>\n",
       "      <th>15454</th>\n",
       "      <td>892534</td>\n",
       "      <td>135.0</td>\n",
       "      <td>3.0</td>\n",
       "      <td>0.0</td>\n",
       "      <td>8.0</td>\n",
       "      <td>12.0</td>\n",
       "      <td>21553.0</td>\n",
       "      <td>3.0</td>\n",
       "      <td>1.0</td>\n",
       "      <td>Lowfat 2% Milkfat Cottage Cheese</td>\n",
       "      <td>...</td>\n",
       "      <td>High-range product</td>\n",
       "      <td>Busiest day</td>\n",
       "      <td>Busiest days</td>\n",
       "      <td>Most orders</td>\n",
       "      <td>5.0</td>\n",
       "      <td>New customer</td>\n",
       "      <td>1250.245833</td>\n",
       "      <td>High spender</td>\n",
       "      <td>12.0</td>\n",
       "      <td>Regular customer</td>\n",
       "    </tr>\n",
       "    <tr>\n",
       "      <th>50648</th>\n",
       "      <td>229704</td>\n",
       "      <td>342.0</td>\n",
       "      <td>8.0</td>\n",
       "      <td>1.0</td>\n",
       "      <td>19.0</td>\n",
       "      <td>30.0</td>\n",
       "      <td>21553.0</td>\n",
       "      <td>9.0</td>\n",
       "      <td>0.0</td>\n",
       "      <td>Lowfat 2% Milkfat Cottage Cheese</td>\n",
       "      <td>...</td>\n",
       "      <td>High-range product</td>\n",
       "      <td>Regularly busy</td>\n",
       "      <td>Busiest days</td>\n",
       "      <td>Most orders</td>\n",
       "      <td>17.0</td>\n",
       "      <td>Regular customer</td>\n",
       "      <td>120.090909</td>\n",
       "      <td>High spender</td>\n",
       "      <td>23.0</td>\n",
       "      <td>Non-frequent customer</td>\n",
       "    </tr>\n",
       "    <tr>\n",
       "      <th>...</th>\n",
       "      <td>...</td>\n",
       "      <td>...</td>\n",
       "      <td>...</td>\n",
       "      <td>...</td>\n",
       "      <td>...</td>\n",
       "      <td>...</td>\n",
       "      <td>...</td>\n",
       "      <td>...</td>\n",
       "      <td>...</td>\n",
       "      <td>...</td>\n",
       "      <td>...</td>\n",
       "      <td>...</td>\n",
       "      <td>...</td>\n",
       "      <td>...</td>\n",
       "      <td>...</td>\n",
       "      <td>...</td>\n",
       "      <td>...</td>\n",
       "      <td>...</td>\n",
       "      <td>...</td>\n",
       "      <td>...</td>\n",
       "      <td>...</td>\n",
       "    </tr>\n",
       "    <tr>\n",
       "      <th>32619914</th>\n",
       "      <td>3386399</td>\n",
       "      <td>NaN</td>\n",
       "      <td>NaN</td>\n",
       "      <td>NaN</td>\n",
       "      <td>NaN</td>\n",
       "      <td>NaN</td>\n",
       "      <td>21553.0</td>\n",
       "      <td>11.0</td>\n",
       "      <td>0.0</td>\n",
       "      <td>Lowfat 2% Milkfat Cottage Cheese</td>\n",
       "      <td>...</td>\n",
       "      <td>High-range product</td>\n",
       "      <td>Regularly busy</td>\n",
       "      <td>Regularly busy</td>\n",
       "      <td>Fewest orders</td>\n",
       "      <td>NaN</td>\n",
       "      <td>NaN</td>\n",
       "      <td>NaN</td>\n",
       "      <td>NaN</td>\n",
       "      <td>NaN</td>\n",
       "      <td>NaN</td>\n",
       "    </tr>\n",
       "    <tr>\n",
       "      <th>32622057</th>\n",
       "      <td>3389756</td>\n",
       "      <td>NaN</td>\n",
       "      <td>NaN</td>\n",
       "      <td>NaN</td>\n",
       "      <td>NaN</td>\n",
       "      <td>NaN</td>\n",
       "      <td>21553.0</td>\n",
       "      <td>9.0</td>\n",
       "      <td>0.0</td>\n",
       "      <td>Lowfat 2% Milkfat Cottage Cheese</td>\n",
       "      <td>...</td>\n",
       "      <td>High-range product</td>\n",
       "      <td>Regularly busy</td>\n",
       "      <td>Regularly busy</td>\n",
       "      <td>Fewest orders</td>\n",
       "      <td>NaN</td>\n",
       "      <td>NaN</td>\n",
       "      <td>NaN</td>\n",
       "      <td>NaN</td>\n",
       "      <td>NaN</td>\n",
       "      <td>NaN</td>\n",
       "    </tr>\n",
       "    <tr>\n",
       "      <th>32626835</th>\n",
       "      <td>3396879</td>\n",
       "      <td>NaN</td>\n",
       "      <td>NaN</td>\n",
       "      <td>NaN</td>\n",
       "      <td>NaN</td>\n",
       "      <td>NaN</td>\n",
       "      <td>21553.0</td>\n",
       "      <td>1.0</td>\n",
       "      <td>0.0</td>\n",
       "      <td>Lowfat 2% Milkfat Cottage Cheese</td>\n",
       "      <td>...</td>\n",
       "      <td>High-range product</td>\n",
       "      <td>Regularly busy</td>\n",
       "      <td>Regularly busy</td>\n",
       "      <td>Fewest orders</td>\n",
       "      <td>NaN</td>\n",
       "      <td>NaN</td>\n",
       "      <td>NaN</td>\n",
       "      <td>NaN</td>\n",
       "      <td>NaN</td>\n",
       "      <td>NaN</td>\n",
       "    </tr>\n",
       "    <tr>\n",
       "      <th>32632989</th>\n",
       "      <td>3407602</td>\n",
       "      <td>NaN</td>\n",
       "      <td>NaN</td>\n",
       "      <td>NaN</td>\n",
       "      <td>NaN</td>\n",
       "      <td>NaN</td>\n",
       "      <td>21553.0</td>\n",
       "      <td>1.0</td>\n",
       "      <td>0.0</td>\n",
       "      <td>Lowfat 2% Milkfat Cottage Cheese</td>\n",
       "      <td>...</td>\n",
       "      <td>High-range product</td>\n",
       "      <td>Regularly busy</td>\n",
       "      <td>Regularly busy</td>\n",
       "      <td>Fewest orders</td>\n",
       "      <td>NaN</td>\n",
       "      <td>NaN</td>\n",
       "      <td>NaN</td>\n",
       "      <td>NaN</td>\n",
       "      <td>NaN</td>\n",
       "      <td>NaN</td>\n",
       "    </tr>\n",
       "    <tr>\n",
       "      <th>32641117</th>\n",
       "      <td>3420827</td>\n",
       "      <td>NaN</td>\n",
       "      <td>NaN</td>\n",
       "      <td>NaN</td>\n",
       "      <td>NaN</td>\n",
       "      <td>NaN</td>\n",
       "      <td>21553.0</td>\n",
       "      <td>2.0</td>\n",
       "      <td>0.0</td>\n",
       "      <td>Lowfat 2% Milkfat Cottage Cheese</td>\n",
       "      <td>...</td>\n",
       "      <td>High-range product</td>\n",
       "      <td>Regularly busy</td>\n",
       "      <td>Regularly busy</td>\n",
       "      <td>Fewest orders</td>\n",
       "      <td>NaN</td>\n",
       "      <td>NaN</td>\n",
       "      <td>NaN</td>\n",
       "      <td>NaN</td>\n",
       "      <td>NaN</td>\n",
       "      <td>NaN</td>\n",
       "    </tr>\n",
       "  </tbody>\n",
       "</table>\n",
       "<p>5127 rows × 24 columns</p>\n",
       "</div>"
      ],
      "text/plain": [
       "          order_id  user_id  order_number  orders_day_of_week  \\\n",
       "1429        912404     17.0          12.0                 2.0   \n",
       "1491        603376     17.0          22.0                 6.0   \n",
       "15448      3264360    135.0           2.0                 2.0   \n",
       "15454       892534    135.0           3.0                 0.0   \n",
       "50648       229704    342.0           8.0                 1.0   \n",
       "...            ...      ...           ...                 ...   \n",
       "32619914   3386399      NaN           NaN                 NaN   \n",
       "32622057   3389756      NaN           NaN                 NaN   \n",
       "32626835   3396879      NaN           NaN                 NaN   \n",
       "32632989   3407602      NaN           NaN                 NaN   \n",
       "32641117   3420827      NaN           NaN                 NaN   \n",
       "\n",
       "          order_hour_of_day  days_since_prior_order  product_id  \\\n",
       "1429                   14.0                     5.0     21553.0   \n",
       "1491                   16.0                     4.0     21553.0   \n",
       "15448                  21.0                    13.0     21553.0   \n",
       "15454                   8.0                    12.0     21553.0   \n",
       "50648                  19.0                    30.0     21553.0   \n",
       "...                     ...                     ...         ...   \n",
       "32619914                NaN                     NaN     21553.0   \n",
       "32622057                NaN                     NaN     21553.0   \n",
       "32626835                NaN                     NaN     21553.0   \n",
       "32632989                NaN                     NaN     21553.0   \n",
       "32641117                NaN                     NaN     21553.0   \n",
       "\n",
       "          add_to_cart_order  reordered                      product_name  ...  \\\n",
       "1429                    5.0        0.0  Lowfat 2% Milkfat Cottage Cheese  ...   \n",
       "1491                    3.0        1.0  Lowfat 2% Milkfat Cottage Cheese  ...   \n",
       "15448                   6.0        0.0  Lowfat 2% Milkfat Cottage Cheese  ...   \n",
       "15454                   3.0        1.0  Lowfat 2% Milkfat Cottage Cheese  ...   \n",
       "50648                   9.0        0.0  Lowfat 2% Milkfat Cottage Cheese  ...   \n",
       "...                     ...        ...                               ...  ...   \n",
       "32619914               11.0        0.0  Lowfat 2% Milkfat Cottage Cheese  ...   \n",
       "32622057                9.0        0.0  Lowfat 2% Milkfat Cottage Cheese  ...   \n",
       "32626835                1.0        0.0  Lowfat 2% Milkfat Cottage Cheese  ...   \n",
       "32632989                1.0        0.0  Lowfat 2% Milkfat Cottage Cheese  ...   \n",
       "32641117                2.0        0.0  Lowfat 2% Milkfat Cottage Cheese  ...   \n",
       "\n",
       "             price_range_loc     busiest_day    busiest_days  \\\n",
       "1429      High-range product  Regularly busy  Regularly busy   \n",
       "1491      High-range product  Regularly busy  Regularly busy   \n",
       "15448     High-range product  Regularly busy  Regularly busy   \n",
       "15454     High-range product     Busiest day    Busiest days   \n",
       "50648     High-range product  Regularly busy    Busiest days   \n",
       "...                      ...             ...             ...   \n",
       "32619914  High-range product  Regularly busy  Regularly busy   \n",
       "32622057  High-range product  Regularly busy  Regularly busy   \n",
       "32626835  High-range product  Regularly busy  Regularly busy   \n",
       "32632989  High-range product  Regularly busy  Regularly busy   \n",
       "32641117  High-range product  Regularly busy  Regularly busy   \n",
       "\n",
       "         busiest_period_of_day max_order      loyalty_flag  \\\n",
       "1429               Most orders      41.0    Loyal customer   \n",
       "1491               Most orders      41.0    Loyal customer   \n",
       "15448           Average orders       5.0      New customer   \n",
       "15454              Most orders       5.0      New customer   \n",
       "50648              Most orders      17.0  Regular customer   \n",
       "...                        ...       ...               ...   \n",
       "32619914         Fewest orders       NaN               NaN   \n",
       "32622057         Fewest orders       NaN               NaN   \n",
       "32626835         Fewest orders       NaN               NaN   \n",
       "32632989         Fewest orders       NaN               NaN   \n",
       "32641117         Fewest orders       NaN               NaN   \n",
       "\n",
       "         average_purchase_price spending_flag  median_days_since_prior_order  \\\n",
       "1429                 109.670103  High spender                            5.0   \n",
       "1491                 109.670103  High spender                            5.0   \n",
       "15448               1250.245833  High spender                           12.0   \n",
       "15454               1250.245833  High spender                           12.0   \n",
       "50648                120.090909  High spender                           23.0   \n",
       "...                         ...           ...                            ...   \n",
       "32619914                    NaN           NaN                            NaN   \n",
       "32622057                    NaN           NaN                            NaN   \n",
       "32626835                    NaN           NaN                            NaN   \n",
       "32632989                    NaN           NaN                            NaN   \n",
       "32641117                    NaN           NaN                            NaN   \n",
       "\n",
       "           order_frequency_flag  \n",
       "1429          Frequent customer  \n",
       "1491          Frequent customer  \n",
       "15448          Regular customer  \n",
       "15454          Regular customer  \n",
       "50648     Non-frequent customer  \n",
       "...                         ...  \n",
       "32619914                    NaN  \n",
       "32622057                    NaN  \n",
       "32626835                    NaN  \n",
       "32632989                    NaN  \n",
       "32641117                    NaN  \n",
       "\n",
       "[5127 rows x 24 columns]"
      ]
     },
     "execution_count": 12,
     "metadata": {},
     "output_type": "execute_result"
    }
   ],
   "source": [
    "# Check for outliers effecting data\n",
    "\n",
    "ords_prods_merge.loc[ords_prods_merge['prices'] > 100]"
   ]
  },
  {
   "cell_type": "code",
   "execution_count": 13,
   "id": "0d740a73",
   "metadata": {},
   "outputs": [],
   "source": [
    "# Assign missing values\n",
    "\n",
    "ords_prods_merge.loc[ords_prods_merge['prices'] >100, 'prices'] = np.nan"
   ]
  },
  {
   "cell_type": "code",
   "execution_count": 14,
   "id": "0b4152da",
   "metadata": {},
   "outputs": [
    {
     "data": {
      "text/plain": [
       "25.0"
      ]
     },
     "execution_count": 14,
     "metadata": {},
     "output_type": "execute_result"
    }
   ],
   "source": [
    "# Verify Assignment\n",
    "\n",
    "ords_prods_merge['prices'].max()"
   ]
  },
  {
   "cell_type": "code",
   "execution_count": 18,
   "id": "57366c10",
   "metadata": {},
   "outputs": [
    {
     "data": {
      "text/plain": [
       "<AxesSubplot:ylabel='Frequency'>"
      ]
     },
     "execution_count": 18,
     "metadata": {},
     "output_type": "execute_result"
    },
    {
     "data": {
      "image/png": "[encoded data removed]",
      "text/plain": [
       "<Figure size 432x288 with 1 Axes>"
      ]
     },
     "metadata": {
      "needs_background": "light"
     },
     "output_type": "display_data"
    }
   ],
   "source": [
    "# Re-try histogram for 'prices' column\n",
    "\n",
    "ords_prods_merge['prices'].plot.hist(bins = 25)"
   ]
  },
  {
   "cell_type": "code",
   "execution_count": 24,
   "id": "6270cb5a",
   "metadata": {},
   "outputs": [
    {
     "data": {
      "text/plain": [
       "<AxesSubplot:ylabel='Frequency'>"
      ]
     },
     "execution_count": 24,
     "metadata": {},
     "output_type": "execute_result"
    },
    {
     "data": {
      "image/png": "[encoded data removed]",
      "text/plain": [
       "<Figure size 432x288 with 1 Axes>"
      ]
     },
     "metadata": {
      "needs_background": "light"
     },
     "output_type": "display_data"
    }
   ],
   "source": [
    "# Increase level of granularity to 70 bins\n",
    "\n",
    "ords_prods_merge['prices'].plot.hist(bins = 70)"
   ]
  },
  {
   "cell_type": "code",
   "execution_count": 26,
   "id": "c8e02761",
   "metadata": {},
   "outputs": [
    {
     "data": {
      "image/png": "[encoded data removed]",
      "text/plain": [
       "<Figure size 432x288 with 1 Axes>"
      ]
     },
     "metadata": {
      "needs_background": "light"
     },
     "output_type": "display_data"
    }
   ],
   "source": [
    "# Define Hist\n",
    "\n",
    "hist = ords_prods_merge['prices'].plot.hist(bins = 70)"
   ]
  },
  {
   "cell_type": "code",
   "execution_count": 27,
   "id": "73482820",
   "metadata": {},
   "outputs": [],
   "source": [
    "# Export histogram\n",
    "\n",
    "hist.figure.savefig(os.path.join(path, 'Analysis','Visualizations', 'hist_orders_dow.png'))"
   ]
  },
  {
   "cell_type": "markdown",
   "id": "80f817b1",
   "metadata": {},
   "source": [
    "# Sampling Data"
   ]
  },
  {
   "cell_type": "code",
   "execution_count": 28,
   "id": "a8ccb9c6",
   "metadata": {},
   "outputs": [],
   "source": [
    "# Generate list holding true/false values in order to test np.random.rand() <= 0.7\n",
    "\n",
    "np.random.seed(4)\n",
    "dev = np.random.rand(len(ords_prods_merge)) <= 0.7"
   ]
  },
  {
   "cell_type": "code",
   "execution_count": 29,
   "id": "46011cd7",
   "metadata": {},
   "outputs": [
    {
     "data": {
      "text/plain": [
       "array([False,  True, False, ...,  True, False,  True])"
      ]
     },
     "execution_count": 29,
     "metadata": {},
     "output_type": "execute_result"
    }
   ],
   "source": [
    "dev"
   ]
  },
  {
   "cell_type": "code",
   "execution_count": 30,
   "id": "6fa75828",
   "metadata": {},
   "outputs": [],
   "source": [
    "# Store 70% of the sample in the dataframe big \n",
    "\n",
    "big = ords_prods_merge[dev]"
   ]
  },
  {
   "cell_type": "code",
   "execution_count": 31,
   "id": "474d19b1",
   "metadata": {},
   "outputs": [],
   "source": [
    "# Store 30% of the sample in the dataframe small\n",
    "\n",
    "small = ords_prods_merge[~dev]"
   ]
  },
  {
   "cell_type": "code",
   "execution_count": 32,
   "id": "dd8f716d",
   "metadata": {},
   "outputs": [
    {
     "data": {
      "text/plain": [
       "32641268"
      ]
     },
     "execution_count": 32,
     "metadata": {},
     "output_type": "execute_result"
    }
   ],
   "source": [
    "# Check row count\n",
    "\n",
    "len(ords_prods_merge)"
   ]
  },
  {
   "cell_type": "code",
   "execution_count": 33,
   "id": "7aef929e",
   "metadata": {},
   "outputs": [
    {
     "data": {
      "text/plain": [
       "9791523"
      ]
     },
     "execution_count": 33,
     "metadata": {},
     "output_type": "execute_result"
    }
   ],
   "source": [
    "len(small)"
   ]
  },
  {
   "cell_type": "code",
   "execution_count": 34,
   "id": "c7962976",
   "metadata": {},
   "outputs": [
    {
     "data": {
      "text/plain": [
       "22849745"
      ]
     },
     "execution_count": 34,
     "metadata": {},
     "output_type": "execute_result"
    }
   ],
   "source": [
    "len(big)"
   ]
  },
  {
   "cell_type": "markdown",
   "id": "d5ba5180",
   "metadata": {},
   "source": [
    "# Create Line Chart"
   ]
  },
  {
   "cell_type": "code",
   "execution_count": 35,
   "id": "0608cece",
   "metadata": {},
   "outputs": [],
   "source": [
    "# Designate columns\n",
    "\n",
    "df_2 = small[['orders_day_of_week','prices']]"
   ]
  },
  {
   "cell_type": "code",
   "execution_count": 36,
   "id": "e3721466",
   "metadata": {},
   "outputs": [
    {
     "data": {
      "image/png": "[encoded data removed]",
      "text/plain": [
       "<Figure size 432x288 with 1 Axes>"
      ]
     },
     "metadata": {
      "needs_background": "light"
     },
     "output_type": "display_data"
    }
   ],
   "source": [
    "# Create line chart \n",
    "\n",
    "line = sns.lineplot(data = df_2, x = 'orders_day_of_week',y = 'prices')"
   ]
  },
  {
   "cell_type": "markdown",
   "id": "a0aaaca7",
   "metadata": {},
   "source": [
    "#### TAKES A VERY LONG TIME TO PROCESS!"
   ]
  },
  {
   "cell_type": "code",
   "execution_count": null,
   "id": "99fb55d5",
   "metadata": {},
   "outputs": [],
   "source": []
  }
 ],
 "metadata": {
  "kernelspec": {
   "display_name": "Python 3 (ipykernel)",
   "language": "python",
   "name": "python3"
  },
  "language_info": {
   "codemirror_mode": {
    "name": "ipython",
    "version": 3
   },
   "file_extension": ".py",
   "mimetype": "text/x-python",
   "name": "python",
   "nbconvert_exporter": "python",
   "pygments_lexer": "ipython3",
   "version": "3.9.7"
  }
 },
 "nbformat": 4,
 "nbformat_minor": 5
}
