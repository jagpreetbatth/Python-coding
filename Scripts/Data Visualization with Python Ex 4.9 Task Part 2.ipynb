{
 "cells": [
  {
   "cell_type": "code",
   "execution_count": 2,
   "id": "609ee6d2",
   "metadata": {},
   "outputs": [],
   "source": [
    "# Import Libraries\n",
    "\n",
    "import pandas as pd\n",
    "import numpy as np\n",
    "import os\n",
    "import matplotlib.pyplot as plt\n",
    "import seaborn as sns\n",
    "import scipy"
   ]
  },
  {
   "cell_type": "code",
   "execution_count": 3,
   "id": "cb9f6785",
   "metadata": {},
   "outputs": [],
   "source": [
    "# Master Path\n",
    "\n",
    "path = r'/Users/jagpreetbatth/Desktop/Career Foundry/Python/11-2021 Instacart Basket Analysis'"
   ]
  },
  {
   "cell_type": "code",
   "execution_count": 4,
   "id": "30489e89",
   "metadata": {},
   "outputs": [
    {
     "data": {
      "text/plain": [
       "'/Users/jagpreetbatth/Desktop/Career Foundry/Python/11-2021 Instacart Basket Analysis'"
      ]
     },
     "execution_count": 4,
     "metadata": {},
     "output_type": "execute_result"
    }
   ],
   "source": [
    "# Verify Path\n",
    "\n",
    "path"
   ]
  },
  {
   "cell_type": "code",
   "execution_count": 5,
   "id": "42c928e2",
   "metadata": {},
   "outputs": [],
   "source": [
    "# Import latest version of Instacart data set with your new customer data merged\n",
    "\n",
    "ords_prods_cust = pd.read_pickle(os.path.join(path, 'Data', 'Prepared Data', 'orders_products_customers_merged.pkl'))"
   ]
  },
  {
   "cell_type": "code",
   "execution_count": 6,
   "id": "308c7525",
   "metadata": {},
   "outputs": [
    {
     "data": {
      "text/plain": [
       "(30563166, 33)"
      ]
     },
     "execution_count": 6,
     "metadata": {},
     "output_type": "execute_result"
    }
   ],
   "source": [
    "# Check Shape\n",
    "\n",
    "ords_prods_cust.shape"
   ]
  },
  {
   "cell_type": "code",
   "execution_count": 7,
   "id": "f69b13ae",
   "metadata": {},
   "outputs": [
    {
     "data": {
      "text/html": [
       "<div>\n",
       "<style scoped>\n",
       "    .dataframe tbody tr th:only-of-type {\n",
       "        vertical-align: middle;\n",
       "    }\n",
       "\n",
       "    .dataframe tbody tr th {\n",
       "        vertical-align: top;\n",
       "    }\n",
       "\n",
       "    .dataframe thead th {\n",
       "        text-align: right;\n",
       "    }\n",
       "</style>\n",
       "<table border=\"1\" class=\"dataframe\">\n",
       "  <thead>\n",
       "    <tr style=\"text-align: right;\">\n",
       "      <th></th>\n",
       "      <th>order_id</th>\n",
       "      <th>user_id</th>\n",
       "      <th>order_number</th>\n",
       "      <th>orders_day_of_week</th>\n",
       "      <th>order_hour_of_day</th>\n",
       "      <th>days_since_prior_order</th>\n",
       "      <th>product_id</th>\n",
       "      <th>add_to_cart_order</th>\n",
       "      <th>reordered</th>\n",
       "      <th>product_name</th>\n",
       "      <th>...</th>\n",
       "      <th>order_frequency_flag</th>\n",
       "      <th>First Name</th>\n",
       "      <th>Surname</th>\n",
       "      <th>Gender</th>\n",
       "      <th>STATE</th>\n",
       "      <th>Age</th>\n",
       "      <th>date_joined</th>\n",
       "      <th>dependents</th>\n",
       "      <th>marital_status</th>\n",
       "      <th>income</th>\n",
       "    </tr>\n",
       "  </thead>\n",
       "  <tbody>\n",
       "    <tr>\n",
       "      <th>0</th>\n",
       "      <td>2398795</td>\n",
       "      <td>1.0</td>\n",
       "      <td>2.0</td>\n",
       "      <td>3.0</td>\n",
       "      <td>7.0</td>\n",
       "      <td>15.0</td>\n",
       "      <td>196.0</td>\n",
       "      <td>1.0</td>\n",
       "      <td>1.0</td>\n",
       "      <td>Soda</td>\n",
       "      <td>...</td>\n",
       "      <td>Regular customer</td>\n",
       "      <td>Linda</td>\n",
       "      <td>Nguyen</td>\n",
       "      <td>Female</td>\n",
       "      <td>Alabama</td>\n",
       "      <td>31</td>\n",
       "      <td>2/17/2019</td>\n",
       "      <td>3</td>\n",
       "      <td>married</td>\n",
       "      <td>40423</td>\n",
       "    </tr>\n",
       "    <tr>\n",
       "      <th>1</th>\n",
       "      <td>2398795</td>\n",
       "      <td>1.0</td>\n",
       "      <td>2.0</td>\n",
       "      <td>3.0</td>\n",
       "      <td>7.0</td>\n",
       "      <td>15.0</td>\n",
       "      <td>10258.0</td>\n",
       "      <td>2.0</td>\n",
       "      <td>0.0</td>\n",
       "      <td>Pistachios</td>\n",
       "      <td>...</td>\n",
       "      <td>Regular customer</td>\n",
       "      <td>Linda</td>\n",
       "      <td>Nguyen</td>\n",
       "      <td>Female</td>\n",
       "      <td>Alabama</td>\n",
       "      <td>31</td>\n",
       "      <td>2/17/2019</td>\n",
       "      <td>3</td>\n",
       "      <td>married</td>\n",
       "      <td>40423</td>\n",
       "    </tr>\n",
       "    <tr>\n",
       "      <th>2</th>\n",
       "      <td>2398795</td>\n",
       "      <td>1.0</td>\n",
       "      <td>2.0</td>\n",
       "      <td>3.0</td>\n",
       "      <td>7.0</td>\n",
       "      <td>15.0</td>\n",
       "      <td>12427.0</td>\n",
       "      <td>3.0</td>\n",
       "      <td>1.0</td>\n",
       "      <td>Original Beef Jerky</td>\n",
       "      <td>...</td>\n",
       "      <td>Regular customer</td>\n",
       "      <td>Linda</td>\n",
       "      <td>Nguyen</td>\n",
       "      <td>Female</td>\n",
       "      <td>Alabama</td>\n",
       "      <td>31</td>\n",
       "      <td>2/17/2019</td>\n",
       "      <td>3</td>\n",
       "      <td>married</td>\n",
       "      <td>40423</td>\n",
       "    </tr>\n",
       "    <tr>\n",
       "      <th>3</th>\n",
       "      <td>2398795</td>\n",
       "      <td>1.0</td>\n",
       "      <td>2.0</td>\n",
       "      <td>3.0</td>\n",
       "      <td>7.0</td>\n",
       "      <td>15.0</td>\n",
       "      <td>13176.0</td>\n",
       "      <td>4.0</td>\n",
       "      <td>0.0</td>\n",
       "      <td>Bag of Organic Bananas</td>\n",
       "      <td>...</td>\n",
       "      <td>Regular customer</td>\n",
       "      <td>Linda</td>\n",
       "      <td>Nguyen</td>\n",
       "      <td>Female</td>\n",
       "      <td>Alabama</td>\n",
       "      <td>31</td>\n",
       "      <td>2/17/2019</td>\n",
       "      <td>3</td>\n",
       "      <td>married</td>\n",
       "      <td>40423</td>\n",
       "    </tr>\n",
       "    <tr>\n",
       "      <th>4</th>\n",
       "      <td>2398795</td>\n",
       "      <td>1.0</td>\n",
       "      <td>2.0</td>\n",
       "      <td>3.0</td>\n",
       "      <td>7.0</td>\n",
       "      <td>15.0</td>\n",
       "      <td>26088.0</td>\n",
       "      <td>5.0</td>\n",
       "      <td>1.0</td>\n",
       "      <td>Aged White Cheddar Popcorn</td>\n",
       "      <td>...</td>\n",
       "      <td>Regular customer</td>\n",
       "      <td>Linda</td>\n",
       "      <td>Nguyen</td>\n",
       "      <td>Female</td>\n",
       "      <td>Alabama</td>\n",
       "      <td>31</td>\n",
       "      <td>2/17/2019</td>\n",
       "      <td>3</td>\n",
       "      <td>married</td>\n",
       "      <td>40423</td>\n",
       "    </tr>\n",
       "  </tbody>\n",
       "</table>\n",
       "<p>5 rows × 33 columns</p>\n",
       "</div>"
      ],
      "text/plain": [
       "   order_id  user_id  order_number  orders_day_of_week  order_hour_of_day  \\\n",
       "0   2398795      1.0           2.0                 3.0                7.0   \n",
       "1   2398795      1.0           2.0                 3.0                7.0   \n",
       "2   2398795      1.0           2.0                 3.0                7.0   \n",
       "3   2398795      1.0           2.0                 3.0                7.0   \n",
       "4   2398795      1.0           2.0                 3.0                7.0   \n",
       "\n",
       "   days_since_prior_order  product_id  add_to_cart_order  reordered  \\\n",
       "0                    15.0       196.0                1.0        1.0   \n",
       "1                    15.0     10258.0                2.0        0.0   \n",
       "2                    15.0     12427.0                3.0        1.0   \n",
       "3                    15.0     13176.0                4.0        0.0   \n",
       "4                    15.0     26088.0                5.0        1.0   \n",
       "\n",
       "                 product_name  ...  order_frequency_flag  First Name  Surname  \\\n",
       "0                        Soda  ...      Regular customer       Linda   Nguyen   \n",
       "1                  Pistachios  ...      Regular customer       Linda   Nguyen   \n",
       "2         Original Beef Jerky  ...      Regular customer       Linda   Nguyen   \n",
       "3      Bag of Organic Bananas  ...      Regular customer       Linda   Nguyen   \n",
       "4  Aged White Cheddar Popcorn  ...      Regular customer       Linda   Nguyen   \n",
       "\n",
       "   Gender    STATE Age date_joined dependents  marital_status income  \n",
       "0  Female  Alabama  31   2/17/2019          3         married  40423  \n",
       "1  Female  Alabama  31   2/17/2019          3         married  40423  \n",
       "2  Female  Alabama  31   2/17/2019          3         married  40423  \n",
       "3  Female  Alabama  31   2/17/2019          3         married  40423  \n",
       "4  Female  Alabama  31   2/17/2019          3         married  40423  \n",
       "\n",
       "[5 rows x 33 columns]"
      ]
     },
     "execution_count": 7,
     "metadata": {},
     "output_type": "execute_result"
    }
   ],
   "source": [
    "# Verify Correct Import\n",
    "\n",
    "ords_prods_cust.head()"
   ]
  },
  {
   "cell_type": "markdown",
   "id": "5d90e99f",
   "metadata": {},
   "source": [
    "# Creating Bar Charts"
   ]
  },
  {
   "cell_type": "code",
   "execution_count": 8,
   "id": "c4923420",
   "metadata": {},
   "outputs": [
    {
     "data": {
      "image/png": "[encoded data removed]",
      "text/plain": [
       "<Figure size 432x288 with 1 Axes>"
      ]
     },
     "metadata": {
      "needs_background": "light"
     },
     "output_type": "display_data"
    }
   ],
   "source": [
    "# Create bar chart showing order frequency based on day of week\n",
    "\n",
    "bar_task = ords_prods_cust['orders_day_of_week'].value_counts().plot.bar(color =['purple', 'red', 'pink', 'orange', 'yellow', 'green', 'blue'])"
   ]
  },
  {
   "cell_type": "code",
   "execution_count": 9,
   "id": "ed67dd35",
   "metadata": {},
   "outputs": [],
   "source": [
    "# Export Visualization\n",
    "\n",
    "bar_task.figure.savefig(os.path.join(path, 'Analysis','Visualizations', 'bar_task_orders_dow.png'))"
   ]
  },
  {
   "cell_type": "markdown",
   "id": "873f8582",
   "metadata": {},
   "source": [
    "# Creating Histograms and Scatterplots"
   ]
  },
  {
   "cell_type": "code",
   "execution_count": 10,
   "id": "6d8b2b5d",
   "metadata": {},
   "outputs": [
    {
     "data": {
      "text/plain": [
       "<AxesSubplot:ylabel='Frequency'>"
      ]
     },
     "execution_count": 10,
     "metadata": {},
     "output_type": "execute_result"
    },
    {
     "data": {
      "image/png": "[encoded data removed]",
      "text/plain": [
       "<Figure size 432x288 with 1 Axes>"
      ]
     },
     "metadata": {
      "needs_background": "light"
     },
     "output_type": "display_data"
    }
   ],
   "source": [
    "# Create histogram for 'prices' column\n",
    "\n",
    "ords_prods_cust['prices'].plot.hist(bins = 25)"
   ]
  },
  {
   "cell_type": "markdown",
   "id": "5957b2f7",
   "metadata": {},
   "source": [
    "#### Note how there is a single bar due to entry error of extreme price outliers"
   ]
  },
  {
   "cell_type": "code",
   "execution_count": 11,
   "id": "9aa8692a",
   "metadata": {},
   "outputs": [
    {
     "data": {
      "text/plain": [
       "<AxesSubplot:xlabel='prices', ylabel='prices'>"
      ]
     },
     "execution_count": 11,
     "metadata": {},
     "output_type": "execute_result"
    },
    {
     "data": {
      "image/png": "[encoded data removed]",
      "text/plain": [
       "<Figure size 432x288 with 1 Axes>"
      ]
     },
     "metadata": {
      "needs_background": "light"
     },
     "output_type": "display_data"
    }
   ],
   "source": [
    "# Create Scatterplots for 'prices' column\n",
    "\n",
    "sns.scatterplot(x = 'prices', y = 'prices',data = ords_prods_cust)"
   ]
  },
  {
   "cell_type": "code",
   "execution_count": 13,
   "id": "b55a71ea",
   "metadata": {},
   "outputs": [
    {
     "data": {
      "text/html": [
       "<div>\n",
       "<style scoped>\n",
       "    .dataframe tbody tr th:only-of-type {\n",
       "        vertical-align: middle;\n",
       "    }\n",
       "\n",
       "    .dataframe tbody tr th {\n",
       "        vertical-align: top;\n",
       "    }\n",
       "\n",
       "    .dataframe thead th {\n",
       "        text-align: right;\n",
       "    }\n",
       "</style>\n",
       "<table border=\"1\" class=\"dataframe\">\n",
       "  <thead>\n",
       "    <tr style=\"text-align: right;\">\n",
       "      <th></th>\n",
       "      <th>order_id</th>\n",
       "      <th>user_id</th>\n",
       "      <th>order_number</th>\n",
       "      <th>orders_day_of_week</th>\n",
       "      <th>order_hour_of_day</th>\n",
       "      <th>days_since_prior_order</th>\n",
       "      <th>product_id</th>\n",
       "      <th>add_to_cart_order</th>\n",
       "      <th>reordered</th>\n",
       "      <th>product_name</th>\n",
       "      <th>...</th>\n",
       "      <th>order_frequency_flag</th>\n",
       "      <th>First Name</th>\n",
       "      <th>Surname</th>\n",
       "      <th>Gender</th>\n",
       "      <th>STATE</th>\n",
       "      <th>Age</th>\n",
       "      <th>date_joined</th>\n",
       "      <th>dependents</th>\n",
       "      <th>marital_status</th>\n",
       "      <th>income</th>\n",
       "    </tr>\n",
       "  </thead>\n",
       "  <tbody>\n",
       "    <tr>\n",
       "      <th>1429</th>\n",
       "      <td>912404</td>\n",
       "      <td>17.0</td>\n",
       "      <td>12.0</td>\n",
       "      <td>2.0</td>\n",
       "      <td>14.0</td>\n",
       "      <td>5.0</td>\n",
       "      <td>21553.0</td>\n",
       "      <td>5.0</td>\n",
       "      <td>0.0</td>\n",
       "      <td>Lowfat 2% Milkfat Cottage Cheese</td>\n",
       "      <td>...</td>\n",
       "      <td>Frequent customer</td>\n",
       "      <td>Barbara</td>\n",
       "      <td>Chang</td>\n",
       "      <td>Female</td>\n",
       "      <td>Kansas</td>\n",
       "      <td>39</td>\n",
       "      <td>9/16/2018</td>\n",
       "      <td>3</td>\n",
       "      <td>married</td>\n",
       "      <td>150659</td>\n",
       "    </tr>\n",
       "    <tr>\n",
       "      <th>1491</th>\n",
       "      <td>603376</td>\n",
       "      <td>17.0</td>\n",
       "      <td>22.0</td>\n",
       "      <td>6.0</td>\n",
       "      <td>16.0</td>\n",
       "      <td>4.0</td>\n",
       "      <td>21553.0</td>\n",
       "      <td>3.0</td>\n",
       "      <td>1.0</td>\n",
       "      <td>Lowfat 2% Milkfat Cottage Cheese</td>\n",
       "      <td>...</td>\n",
       "      <td>Frequent customer</td>\n",
       "      <td>Barbara</td>\n",
       "      <td>Chang</td>\n",
       "      <td>Female</td>\n",
       "      <td>Kansas</td>\n",
       "      <td>39</td>\n",
       "      <td>9/16/2018</td>\n",
       "      <td>3</td>\n",
       "      <td>married</td>\n",
       "      <td>150659</td>\n",
       "    </tr>\n",
       "    <tr>\n",
       "      <th>15448</th>\n",
       "      <td>3264360</td>\n",
       "      <td>135.0</td>\n",
       "      <td>2.0</td>\n",
       "      <td>2.0</td>\n",
       "      <td>21.0</td>\n",
       "      <td>13.0</td>\n",
       "      <td>21553.0</td>\n",
       "      <td>6.0</td>\n",
       "      <td>0.0</td>\n",
       "      <td>Lowfat 2% Milkfat Cottage Cheese</td>\n",
       "      <td>...</td>\n",
       "      <td>Regular customer</td>\n",
       "      <td>nan</td>\n",
       "      <td>Chen</td>\n",
       "      <td>Female</td>\n",
       "      <td>Maryland</td>\n",
       "      <td>30</td>\n",
       "      <td>3/19/2017</td>\n",
       "      <td>3</td>\n",
       "      <td>married</td>\n",
       "      <td>120635</td>\n",
       "    </tr>\n",
       "    <tr>\n",
       "      <th>15454</th>\n",
       "      <td>892534</td>\n",
       "      <td>135.0</td>\n",
       "      <td>3.0</td>\n",
       "      <td>0.0</td>\n",
       "      <td>8.0</td>\n",
       "      <td>12.0</td>\n",
       "      <td>21553.0</td>\n",
       "      <td>3.0</td>\n",
       "      <td>1.0</td>\n",
       "      <td>Lowfat 2% Milkfat Cottage Cheese</td>\n",
       "      <td>...</td>\n",
       "      <td>Regular customer</td>\n",
       "      <td>nan</td>\n",
       "      <td>Chen</td>\n",
       "      <td>Female</td>\n",
       "      <td>Maryland</td>\n",
       "      <td>30</td>\n",
       "      <td>3/19/2017</td>\n",
       "      <td>3</td>\n",
       "      <td>married</td>\n",
       "      <td>120635</td>\n",
       "    </tr>\n",
       "    <tr>\n",
       "      <th>50648</th>\n",
       "      <td>229704</td>\n",
       "      <td>342.0</td>\n",
       "      <td>8.0</td>\n",
       "      <td>1.0</td>\n",
       "      <td>19.0</td>\n",
       "      <td>30.0</td>\n",
       "      <td>21553.0</td>\n",
       "      <td>9.0</td>\n",
       "      <td>0.0</td>\n",
       "      <td>Lowfat 2% Milkfat Cottage Cheese</td>\n",
       "      <td>...</td>\n",
       "      <td>Non-frequent customer</td>\n",
       "      <td>Ruby</td>\n",
       "      <td>Bates</td>\n",
       "      <td>Female</td>\n",
       "      <td>Minnesota</td>\n",
       "      <td>56</td>\n",
       "      <td>8/23/2018</td>\n",
       "      <td>2</td>\n",
       "      <td>married</td>\n",
       "      <td>187328</td>\n",
       "    </tr>\n",
       "    <tr>\n",
       "      <th>...</th>\n",
       "      <td>...</td>\n",
       "      <td>...</td>\n",
       "      <td>...</td>\n",
       "      <td>...</td>\n",
       "      <td>...</td>\n",
       "      <td>...</td>\n",
       "      <td>...</td>\n",
       "      <td>...</td>\n",
       "      <td>...</td>\n",
       "      <td>...</td>\n",
       "      <td>...</td>\n",
       "      <td>...</td>\n",
       "      <td>...</td>\n",
       "      <td>...</td>\n",
       "      <td>...</td>\n",
       "      <td>...</td>\n",
       "      <td>...</td>\n",
       "      <td>...</td>\n",
       "      <td>...</td>\n",
       "      <td>...</td>\n",
       "      <td>...</td>\n",
       "    </tr>\n",
       "    <tr>\n",
       "      <th>30483598</th>\n",
       "      <td>1039454</td>\n",
       "      <td>205650.0</td>\n",
       "      <td>15.0</td>\n",
       "      <td>1.0</td>\n",
       "      <td>10.0</td>\n",
       "      <td>7.0</td>\n",
       "      <td>21553.0</td>\n",
       "      <td>6.0</td>\n",
       "      <td>1.0</td>\n",
       "      <td>Lowfat 2% Milkfat Cottage Cheese</td>\n",
       "      <td>...</td>\n",
       "      <td>Frequent customer</td>\n",
       "      <td>Jeremy</td>\n",
       "      <td>Vang</td>\n",
       "      <td>Male</td>\n",
       "      <td>Kentucky</td>\n",
       "      <td>62</td>\n",
       "      <td>10/2/2017</td>\n",
       "      <td>0</td>\n",
       "      <td>divorced/widowed</td>\n",
       "      <td>302526</td>\n",
       "    </tr>\n",
       "    <tr>\n",
       "      <th>30483644</th>\n",
       "      <td>3172853</td>\n",
       "      <td>205650.0</td>\n",
       "      <td>18.0</td>\n",
       "      <td>1.0</td>\n",
       "      <td>9.0</td>\n",
       "      <td>7.0</td>\n",
       "      <td>21553.0</td>\n",
       "      <td>17.0</td>\n",
       "      <td>1.0</td>\n",
       "      <td>Lowfat 2% Milkfat Cottage Cheese</td>\n",
       "      <td>...</td>\n",
       "      <td>Frequent customer</td>\n",
       "      <td>Jeremy</td>\n",
       "      <td>Vang</td>\n",
       "      <td>Male</td>\n",
       "      <td>Kentucky</td>\n",
       "      <td>62</td>\n",
       "      <td>10/2/2017</td>\n",
       "      <td>0</td>\n",
       "      <td>divorced/widowed</td>\n",
       "      <td>302526</td>\n",
       "    </tr>\n",
       "    <tr>\n",
       "      <th>30509374</th>\n",
       "      <td>2504315</td>\n",
       "      <td>205818.0</td>\n",
       "      <td>3.0</td>\n",
       "      <td>5.0</td>\n",
       "      <td>15.0</td>\n",
       "      <td>3.0</td>\n",
       "      <td>21553.0</td>\n",
       "      <td>13.0</td>\n",
       "      <td>0.0</td>\n",
       "      <td>Lowfat 2% Milkfat Cottage Cheese</td>\n",
       "      <td>...</td>\n",
       "      <td>Regular customer</td>\n",
       "      <td>James</td>\n",
       "      <td>Hunter</td>\n",
       "      <td>Male</td>\n",
       "      <td>Maryland</td>\n",
       "      <td>60</td>\n",
       "      <td>7/12/2019</td>\n",
       "      <td>1</td>\n",
       "      <td>married</td>\n",
       "      <td>172539</td>\n",
       "    </tr>\n",
       "    <tr>\n",
       "      <th>30509384</th>\n",
       "      <td>1108388</td>\n",
       "      <td>205818.0</td>\n",
       "      <td>5.0</td>\n",
       "      <td>4.0</td>\n",
       "      <td>5.0</td>\n",
       "      <td>1.0</td>\n",
       "      <td>21553.0</td>\n",
       "      <td>5.0</td>\n",
       "      <td>1.0</td>\n",
       "      <td>Lowfat 2% Milkfat Cottage Cheese</td>\n",
       "      <td>...</td>\n",
       "      <td>Regular customer</td>\n",
       "      <td>James</td>\n",
       "      <td>Hunter</td>\n",
       "      <td>Male</td>\n",
       "      <td>Maryland</td>\n",
       "      <td>60</td>\n",
       "      <td>7/12/2019</td>\n",
       "      <td>1</td>\n",
       "      <td>married</td>\n",
       "      <td>172539</td>\n",
       "    </tr>\n",
       "    <tr>\n",
       "      <th>30540258</th>\n",
       "      <td>379732</td>\n",
       "      <td>206049.0</td>\n",
       "      <td>4.0</td>\n",
       "      <td>1.0</td>\n",
       "      <td>14.0</td>\n",
       "      <td>5.0</td>\n",
       "      <td>21553.0</td>\n",
       "      <td>4.0</td>\n",
       "      <td>1.0</td>\n",
       "      <td>Lowfat 2% Milkfat Cottage Cheese</td>\n",
       "      <td>...</td>\n",
       "      <td>Frequent customer</td>\n",
       "      <td>Louise</td>\n",
       "      <td>Leal</td>\n",
       "      <td>Female</td>\n",
       "      <td>District of Columbia</td>\n",
       "      <td>23</td>\n",
       "      <td>4/26/2019</td>\n",
       "      <td>1</td>\n",
       "      <td>married</td>\n",
       "      <td>169022</td>\n",
       "    </tr>\n",
       "  </tbody>\n",
       "</table>\n",
       "<p>4776 rows × 33 columns</p>\n",
       "</div>"
      ],
      "text/plain": [
       "          order_id   user_id  order_number  orders_day_of_week  \\\n",
       "1429        912404      17.0          12.0                 2.0   \n",
       "1491        603376      17.0          22.0                 6.0   \n",
       "15448      3264360     135.0           2.0                 2.0   \n",
       "15454       892534     135.0           3.0                 0.0   \n",
       "50648       229704     342.0           8.0                 1.0   \n",
       "...            ...       ...           ...                 ...   \n",
       "30483598   1039454  205650.0          15.0                 1.0   \n",
       "30483644   3172853  205650.0          18.0                 1.0   \n",
       "30509374   2504315  205818.0           3.0                 5.0   \n",
       "30509384   1108388  205818.0           5.0                 4.0   \n",
       "30540258    379732  206049.0           4.0                 1.0   \n",
       "\n",
       "          order_hour_of_day  days_since_prior_order  product_id  \\\n",
       "1429                   14.0                     5.0     21553.0   \n",
       "1491                   16.0                     4.0     21553.0   \n",
       "15448                  21.0                    13.0     21553.0   \n",
       "15454                   8.0                    12.0     21553.0   \n",
       "50648                  19.0                    30.0     21553.0   \n",
       "...                     ...                     ...         ...   \n",
       "30483598               10.0                     7.0     21553.0   \n",
       "30483644                9.0                     7.0     21553.0   \n",
       "30509374               15.0                     3.0     21553.0   \n",
       "30509384                5.0                     1.0     21553.0   \n",
       "30540258               14.0                     5.0     21553.0   \n",
       "\n",
       "          add_to_cart_order  reordered                      product_name  ...  \\\n",
       "1429                    5.0        0.0  Lowfat 2% Milkfat Cottage Cheese  ...   \n",
       "1491                    3.0        1.0  Lowfat 2% Milkfat Cottage Cheese  ...   \n",
       "15448                   6.0        0.0  Lowfat 2% Milkfat Cottage Cheese  ...   \n",
       "15454                   3.0        1.0  Lowfat 2% Milkfat Cottage Cheese  ...   \n",
       "50648                   9.0        0.0  Lowfat 2% Milkfat Cottage Cheese  ...   \n",
       "...                     ...        ...                               ...  ...   \n",
       "30483598                6.0        1.0  Lowfat 2% Milkfat Cottage Cheese  ...   \n",
       "30483644               17.0        1.0  Lowfat 2% Milkfat Cottage Cheese  ...   \n",
       "30509374               13.0        0.0  Lowfat 2% Milkfat Cottage Cheese  ...   \n",
       "30509384                5.0        1.0  Lowfat 2% Milkfat Cottage Cheese  ...   \n",
       "30540258                4.0        1.0  Lowfat 2% Milkfat Cottage Cheese  ...   \n",
       "\n",
       "           order_frequency_flag  First Name  Surname  Gender  \\\n",
       "1429          Frequent customer     Barbara    Chang  Female   \n",
       "1491          Frequent customer     Barbara    Chang  Female   \n",
       "15448          Regular customer         nan     Chen  Female   \n",
       "15454          Regular customer         nan     Chen  Female   \n",
       "50648     Non-frequent customer        Ruby    Bates  Female   \n",
       "...                         ...         ...      ...     ...   \n",
       "30483598      Frequent customer      Jeremy     Vang    Male   \n",
       "30483644      Frequent customer      Jeremy     Vang    Male   \n",
       "30509374       Regular customer       James   Hunter    Male   \n",
       "30509384       Regular customer       James   Hunter    Male   \n",
       "30540258      Frequent customer      Louise     Leal  Female   \n",
       "\n",
       "                         STATE Age date_joined dependents    marital_status  \\\n",
       "1429                    Kansas  39   9/16/2018          3           married   \n",
       "1491                    Kansas  39   9/16/2018          3           married   \n",
       "15448                 Maryland  30   3/19/2017          3           married   \n",
       "15454                 Maryland  30   3/19/2017          3           married   \n",
       "50648                Minnesota  56   8/23/2018          2           married   \n",
       "...                        ...  ..         ...        ...               ...   \n",
       "30483598              Kentucky  62   10/2/2017          0  divorced/widowed   \n",
       "30483644              Kentucky  62   10/2/2017          0  divorced/widowed   \n",
       "30509374              Maryland  60   7/12/2019          1           married   \n",
       "30509384              Maryland  60   7/12/2019          1           married   \n",
       "30540258  District of Columbia  23   4/26/2019          1           married   \n",
       "\n",
       "          income  \n",
       "1429      150659  \n",
       "1491      150659  \n",
       "15448     120635  \n",
       "15454     120635  \n",
       "50648     187328  \n",
       "...          ...  \n",
       "30483598  302526  \n",
       "30483644  302526  \n",
       "30509374  172539  \n",
       "30509384  172539  \n",
       "30540258  169022  \n",
       "\n",
       "[4776 rows x 33 columns]"
      ]
     },
     "execution_count": 13,
     "metadata": {},
     "output_type": "execute_result"
    }
   ],
   "source": [
    "# Check for outliers effecting data\n",
    "\n",
    "ords_prods_cust.loc[ords_prods_cust['prices'] > 100]"
   ]
  },
  {
   "cell_type": "code",
   "execution_count": 14,
   "id": "9ad2d0f0",
   "metadata": {},
   "outputs": [],
   "source": [
    "# Assign missing values\n",
    "\n",
    "ords_prods_cust.loc[ords_prods_cust['prices'] >100, 'prices'] = np.nan"
   ]
  },
  {
   "cell_type": "code",
   "execution_count": 15,
   "id": "f73e5549",
   "metadata": {},
   "outputs": [
    {
     "data": {
      "text/plain": [
       "25.0"
      ]
     },
     "execution_count": 15,
     "metadata": {},
     "output_type": "execute_result"
    }
   ],
   "source": [
    "# Verify Assignment\n",
    "\n",
    "ords_prods_cust['prices'].max()"
   ]
  },
  {
   "cell_type": "code",
   "execution_count": 16,
   "id": "c4e21712",
   "metadata": {},
   "outputs": [
    {
     "data": {
      "text/plain": [
       "<AxesSubplot:ylabel='Frequency'>"
      ]
     },
     "execution_count": 16,
     "metadata": {},
     "output_type": "execute_result"
    },
    {
     "data": {
      "image/png": "[encoded data removed]",
      "text/plain": [
       "<Figure size 432x288 with 1 Axes>"
      ]
     },
     "metadata": {
      "needs_background": "light"
     },
     "output_type": "display_data"
    }
   ],
   "source": [
    "# Re-try histogram for 'prices' column\n",
    "\n",
    "ords_prods_cust['prices'].plot.hist(bins = 25)"
   ]
  },
  {
   "cell_type": "code",
   "execution_count": 17,
   "id": "97849e7f",
   "metadata": {},
   "outputs": [
    {
     "data": {
      "text/plain": [
       "<AxesSubplot:ylabel='Frequency'>"
      ]
     },
     "execution_count": 17,
     "metadata": {},
     "output_type": "execute_result"
    },
    {
     "data": {
      "image/png": "[encoded data removed]",
      "text/plain": [
       "<Figure size 432x288 with 1 Axes>"
      ]
     },
     "metadata": {
      "needs_background": "light"
     },
     "output_type": "display_data"
    }
   ],
   "source": [
    "# Increase level of granularity to 70 bins\n",
    "\n",
    "ords_prods_cust['prices'].plot.hist(bins = 70)"
   ]
  },
  {
   "cell_type": "code",
   "execution_count": 19,
   "id": "162acc51",
   "metadata": {},
   "outputs": [
    {
     "data": {
      "image/png": "[encoded data removed]",
      "text/plain": [
       "<Figure size 432x288 with 1 Axes>"
      ]
     },
     "metadata": {
      "needs_background": "light"
     },
     "output_type": "display_data"
    }
   ],
   "source": [
    "# Define Hist\n",
    "\n",
    "hist_task = ords_prods_cust['prices'].plot.hist(bins = 70)"
   ]
  },
  {
   "cell_type": "code",
   "execution_count": 20,
   "id": "9c3a5a1a",
   "metadata": {},
   "outputs": [],
   "source": [
    "# Export histogram\n",
    "\n",
    "hist_task.figure.savefig(os.path.join(path, 'Analysis','Visualizations', 'hist_task_orders_dow.png'))"
   ]
  },
  {
   "cell_type": "code",
   "execution_count": 21,
   "id": "d771d1ee",
   "metadata": {},
   "outputs": [
    {
     "data": {
      "image/png": "[encoded data removed]",
      "text/plain": [
       "<Figure size 432x288 with 1 Axes>"
      ]
     },
     "metadata": {
      "needs_background": "light"
     },
     "output_type": "display_data"
    }
   ],
   "source": [
    "# Re-Plot scatterplot \n",
    "\n",
    "scatter1 = sns.scatterplot(x = 'prices', y = 'prices',data = ords_prods_cust)"
   ]
  },
  {
   "cell_type": "code",
   "execution_count": 22,
   "id": "3a68f03a",
   "metadata": {},
   "outputs": [],
   "source": [
    "# Export scatterplot\n",
    "\n",
    "scatter1.figure.savefig(os.path.join(path, 'Analysis','Visualizations', 'scatter1_orders_dow.png'))"
   ]
  },
  {
   "cell_type": "markdown",
   "id": "2181023f",
   "metadata": {},
   "source": [
    "# Sampling Data"
   ]
  },
  {
   "cell_type": "code",
   "execution_count": 23,
   "id": "ab1238e6",
   "metadata": {},
   "outputs": [],
   "source": [
    "# Generate list holding true/false values in order to test np.random.rand() <= 0.7\n",
    "\n",
    "np.random.seed(4)\n",
    "dev = np.random.rand(len(ords_prods_cust)) <= 0.7"
   ]
  },
  {
   "cell_type": "code",
   "execution_count": 24,
   "id": "3ecefd95",
   "metadata": {},
   "outputs": [
    {
     "data": {
      "text/plain": [
       "array([False,  True, False, ...,  True,  True,  True])"
      ]
     },
     "execution_count": 24,
     "metadata": {},
     "output_type": "execute_result"
    }
   ],
   "source": [
    "# Check output\n",
    "\n",
    "dev"
   ]
  },
  {
   "cell_type": "code",
   "execution_count": 25,
   "id": "47ace323",
   "metadata": {},
   "outputs": [],
   "source": [
    "# Store 70% of the sample in the dataframe big \n",
    "\n",
    "big = ords_prods_cust[dev]"
   ]
  },
  {
   "cell_type": "code",
   "execution_count": 26,
   "id": "39d7b505",
   "metadata": {},
   "outputs": [],
   "source": [
    "# Store 30% of the sample in the dataframe small\n",
    "\n",
    "small = ords_prods_cust[~dev]"
   ]
  },
  {
   "cell_type": "code",
   "execution_count": 27,
   "id": "6da811e6",
   "metadata": {},
   "outputs": [
    {
     "data": {
      "text/plain": [
       "30563166"
      ]
     },
     "execution_count": 27,
     "metadata": {},
     "output_type": "execute_result"
    }
   ],
   "source": [
    "# Check row count\n",
    "\n",
    "len(ords_prods_cust)"
   ]
  },
  {
   "cell_type": "code",
   "execution_count": 28,
   "id": "cb69cccb",
   "metadata": {},
   "outputs": [
    {
     "data": {
      "text/plain": [
       "9167938"
      ]
     },
     "execution_count": 28,
     "metadata": {},
     "output_type": "execute_result"
    }
   ],
   "source": [
    "len(small)"
   ]
  },
  {
   "cell_type": "code",
   "execution_count": 29,
   "id": "41aa1d8b",
   "metadata": {},
   "outputs": [
    {
     "data": {
      "text/plain": [
       "21395228"
      ]
     },
     "execution_count": 29,
     "metadata": {},
     "output_type": "execute_result"
    }
   ],
   "source": [
    "len(big)"
   ]
  },
  {
   "cell_type": "markdown",
   "id": "cf1fb8f6",
   "metadata": {},
   "source": [
    "# Create Line Chart"
   ]
  },
  {
   "cell_type": "code",
   "execution_count": 30,
   "id": "aeca583d",
   "metadata": {},
   "outputs": [],
   "source": [
    "# Designate columns\n",
    "\n",
    "df_2 = small[['orders_day_of_week','prices']]"
   ]
  },
  {
   "cell_type": "code",
   "execution_count": 31,
   "id": "77b5c00e",
   "metadata": {},
   "outputs": [
    {
     "data": {
      "image/png": "[encoded data removed]",
      "text/plain": [
       "<Figure size 432x288 with 1 Axes>"
      ]
     },
     "metadata": {
      "needs_background": "light"
     },
     "output_type": "display_data"
    }
   ],
   "source": [
    "# Create line chart\n",
    "\n",
    "line_task = sns.lineplot(data = df_2, x = 'orders_day_of_week',y = 'prices')"
   ]
  },
  {
   "cell_type": "code",
   "execution_count": 32,
   "id": "ca3b8797",
   "metadata": {},
   "outputs": [],
   "source": [
    "# Export scatterplot\n",
    "\n",
    "line_task.figure.savefig(os.path.join(path, 'Analysis','Visualizations', 'line_task_dow_prices.png'))"
   ]
  },
  {
   "cell_type": "markdown",
   "id": "763204ef",
   "metadata": {},
   "source": [
    "# Create a histogram of the “order_hour_of_day” column to visualize at what time most orders are placed."
   ]
  },
  {
   "cell_type": "code",
   "execution_count": 33,
   "id": "75c11c0b",
   "metadata": {},
   "outputs": [
    {
     "data": {
      "image/png": "[encoded data removed]",
      "text/plain": [
       "<Figure size 432x288 with 1 Axes>"
      ]
     },
     "metadata": {
      "needs_background": "light"
     },
     "output_type": "display_data"
    }
   ],
   "source": [
    "hist_task2 = ords_prods_cust['order_hour_of_day'].plot.hist(bins = 70)"
   ]
  },
  {
   "cell_type": "markdown",
   "id": "ba4a72e1",
   "metadata": {},
   "source": [
    "### Histogram findings indicates increased orders placed from 10 am to 4 pm and decreased orders placed between 12 am and 6am where the client population is most likely sleeping. "
   ]
  },
  {
   "cell_type": "code",
   "execution_count": 34,
   "id": "154cf611",
   "metadata": {},
   "outputs": [],
   "source": [
    "# Export histogram\n",
    "\n",
    "hist_task2.figure.savefig(os.path.join(path, 'Analysis','Visualizations', 'hist_task2_orders_hod.png'))"
   ]
  },
  {
   "cell_type": "markdown",
   "id": "e5b2703c",
   "metadata": {},
   "source": [
    "# Distribution of orders among customers in terms of loyalty using a bar chart"
   ]
  },
  {
   "cell_type": "code",
   "execution_count": 36,
   "id": "e3d075f5",
   "metadata": {},
   "outputs": [
    {
     "data": {
      "image/png": "[encoded data removed]",
      "text/plain": [
       "<Figure size 432x288 with 1 Axes>"
      ]
     },
     "metadata": {
      "needs_background": "light"
     },
     "output_type": "display_data"
    }
   ],
   "source": [
    "bar_task2 = ords_prods_cust['loyalty_flag'].value_counts().plot.bar(color =['blue', 'yellow', 'red'])"
   ]
  },
  {
   "cell_type": "markdown",
   "id": "e356a67b",
   "metadata": {},
   "source": [
    "#### Note increased orders with regular and loyal customers"
   ]
  },
  {
   "cell_type": "code",
   "execution_count": 39,
   "id": "e2c6d681",
   "metadata": {},
   "outputs": [],
   "source": [
    "# Export Bar Chart\n",
    "\n",
    "bar_task2.figure.savefig(os.path.join(path, 'Analysis','Visualizations', 'bar_task2_loyalty_flag.png'))"
   ]
  },
  {
   "cell_type": "markdown",
   "id": "192ba778",
   "metadata": {},
   "source": [
    "# Difference in expenditure ('prices' column) depending on the hour of the day"
   ]
  },
  {
   "cell_type": "code",
   "execution_count": 37,
   "id": "95a72810",
   "metadata": {},
   "outputs": [],
   "source": [
    "# Designate column\n",
    "\n",
    "df_3 = small[['order_hour_of_day','prices']]"
   ]
  },
  {
   "cell_type": "code",
   "execution_count": 38,
   "id": "b348b19c",
   "metadata": {
    "scrolled": true
   },
   "outputs": [
    {
     "data": {
      "image/png": "[encoded data removed]",
      "text/plain": [
       "<Figure size 432x288 with 1 Axes>"
      ]
     },
     "metadata": {
      "needs_background": "light"
     },
     "output_type": "display_data"
    }
   ],
   "source": [
    "# Create line chart\n",
    "\n",
    "line_task2 = sns.lineplot(data = df_3, x = 'order_hour_of_day',y = 'prices')"
   ]
  },
  {
   "cell_type": "markdown",
   "id": "13b90429",
   "metadata": {},
   "source": [
    "#### Inconclusive data shows a dip in expenditures at hour 10 and leveling off at 3 pm on."
   ]
  },
  {
   "cell_type": "code",
   "execution_count": 41,
   "id": "15e30f99",
   "metadata": {},
   "outputs": [],
   "source": [
    "# Export Line chart\n",
    "\n",
    "line_task2.figure.savefig(os.path.join(path, 'Analysis','Visualizations', 'line_task2_hod_prices.png'))"
   ]
  },
  {
   "cell_type": "markdown",
   "id": "4b5617b1",
   "metadata": {},
   "source": [
    "# Explore relationship between age and dependents for targeted marketing by using a line chart"
   ]
  },
  {
   "cell_type": "code",
   "execution_count": 45,
   "id": "415f1c06",
   "metadata": {},
   "outputs": [],
   "source": [
    "# Designate columns\n",
    "\n",
    "df_4 = small[['Age','dependents']]"
   ]
  },
  {
   "cell_type": "code",
   "execution_count": 46,
   "id": "83b7dbf5",
   "metadata": {},
   "outputs": [
    {
     "data": {
      "image/png": "[encoded data removed]",
      "text/plain": [
       "<Figure size 432x288 with 1 Axes>"
      ]
     },
     "metadata": {
      "needs_background": "light"
     },
     "output_type": "display_data"
    }
   ],
   "source": [
    "# Create line chart\n",
    "\n",
    "line_task3 = sns.lineplot(data = df_4, x = 'dependents',y = 'Age')"
   ]
  },
  {
   "cell_type": "markdown",
   "id": "6d869da1",
   "metadata": {},
   "source": [
    "#### The Line chart of age versus dependents shows that at the average customer age of 49.47, there are an average numner of dependents. "
   ]
  },
  {
   "cell_type": "code",
   "execution_count": 47,
   "id": "2c07d7ad",
   "metadata": {},
   "outputs": [],
   "source": [
    "# Export Line chart\n",
    "\n",
    "line_task3.figure.savefig(os.path.join(path, 'Analysis','Visualizations', 'line_task3_age_dependents.png'))"
   ]
  },
  {
   "cell_type": "markdown",
   "id": "e388ce69",
   "metadata": {},
   "source": [
    "# Explore relationship between age and spending power using a scatterplot"
   ]
  },
  {
   "cell_type": "code",
   "execution_count": 48,
   "id": "8361438d",
   "metadata": {},
   "outputs": [
    {
     "data": {
      "image/png": "[encoded data removed]",
      "text/plain": [
       "<Figure size 432x288 with 1 Axes>"
      ]
     },
     "metadata": {
      "needs_background": "light"
     },
     "output_type": "display_data"
    }
   ],
   "source": [
    "# Create scatterplot\n",
    "\n",
    "scatter2 = sns.scatterplot(x = 'Age', y = 'income',data = ords_prods_cust)"
   ]
  },
  {
   "cell_type": "markdown",
   "id": "483631f7",
   "metadata": {},
   "source": [
    "#### Nominal upward trend of increased income with increased age noted, meaning older age customers seemingly have more spending power. "
   ]
  },
  {
   "cell_type": "code",
   "execution_count": 49,
   "id": "684d5006",
   "metadata": {},
   "outputs": [],
   "source": [
    "# Export scatterplot\n",
    "\n",
    "scatter2.figure.savefig(os.path.join(path, 'Analysis','Visualizations', 'scatter2_age_income.png'))"
   ]
  },
  {
   "cell_type": "code",
   "execution_count": null,
   "id": "ed8790a3",
   "metadata": {},
   "outputs": [],
   "source": [
    "# Save notebook in pickle format\n",
    "\n",
    "ords_prods_cust.to_pickle(os.path.join(path, 'Data','Prepared Data', 'orders_products_customers_merged.pkl'))"
   ]
  }
 ],
 "metadata": {
  "kernelspec": {
   "display_name": "Python 3 (ipykernel)",
   "language": "python",
   "name": "python3"
  },
  "language_info": {
   "codemirror_mode": {
    "name": "ipython",
    "version": 3
   },
   "file_extension": ".py",
   "mimetype": "text/x-python",
   "name": "python",
   "nbconvert_exporter": "python",
   "pygments_lexer": "ipython3",
   "version": "3.9.7"
  }
 },
 "nbformat": 4,
 "nbformat_minor": 5
}
